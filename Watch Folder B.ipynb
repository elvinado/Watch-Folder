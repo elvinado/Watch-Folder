{
 "cells": [
  {
   "cell_type": "markdown",
   "metadata": {},
   "source": [
    "## For Screen Control B"
   ]
  },
  {
   "cell_type": "code",
   "execution_count": null,
   "metadata": {},
   "outputs": [],
   "source": [
    "import json, os, time, re\n",
    "with open('../elvconfig.json') as cfg_data:\n",
    "    cfg = json.load(cfg_data)\n",
    "\n",
    "inputpath = cfg['inputpath']\n",
    "outputfile = cfg['outputfile']\n",
    "endfile = cfg['endpage'] * cfg['endrow'] * cfg['tilecols']\n",
    "\n",
    "before = dict([(f,None) for f in os.listdir (inputpath)])\n",
    "#get the last file number\n",
    "pat = r'.*\\((.*\\d)\\).png'\n",
    "startfile = 1\n",
    "if bool(before):\n",
    "    startfile = int(re.search(pat,list(before.keys())[-1]).group(1)) + 1\n",
    "\n",
    "while True:\n",
    "    if startfile-1 == endfile:\n",
    "        break\n",
    "        \n",
    "    time.sleep (1) #wait\n",
    "    after = dict([(f,None) for f in os.listdir (inputpath)]) #list after\n",
    "    added = [f for f in after if not f in before] #check after\n",
    "    \n",
    "    if added: #if true else loop again\n",
    "        #print (\"Added:{}\".format (added[0]))\n",
    "        new_name = \"_({}).png\".format(startfile)\n",
    "        old = os.path.join(inputpath,added[0])\n",
    "        new = os.path.join(inputpath,new_name)\n",
    "        os.rename(old,new)\n",
    "        #print (\"Renamed:{}\".format (new_name))\n",
    "        after = dict([(f,None) for f in os.listdir (inputpath)]) # list after renamed\n",
    "        startfile += 1\n",
    "    \n",
    "    before = after #make new after as current\n",
    "\n",
    "print(\"Finished\")"
   ]
  }
 ],
 "metadata": {
  "kernelspec": {
   "display_name": "Python 3",
   "language": "python",
   "name": "python3"
  },
  "language_info": {
   "codemirror_mode": {
    "name": "ipython",
    "version": 3
   },
   "file_extension": ".py",
   "mimetype": "text/x-python",
   "name": "python",
   "nbconvert_exporter": "python",
   "pygments_lexer": "ipython3",
   "version": "3.6.2"
  }
 },
 "nbformat": 4,
 "nbformat_minor": 2
}
