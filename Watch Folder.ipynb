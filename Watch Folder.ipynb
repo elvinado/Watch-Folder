{
 "cells": [
  {
   "cell_type": "markdown",
   "metadata": {},
   "source": [
    "## The first part watch the folder for new file then rename"
   ]
  },
  {
   "cell_type": "code",
   "execution_count": null,
   "metadata": {},
   "outputs": [],
   "source": [
    "import json, os, time\n",
    "with open('../elvconfig.json') as cfg_data:\n",
    "    cfg = json.load(cfg_data)\n",
    "\n",
    "inputpath = cfg['inputpath']\n",
    "outputfile = cfg['outputfile']\n",
    "startpage = cfg['startpage']\n",
    "endpage = cfg['endpage']\n",
    "\n",
    "before = dict([(f,None) for f in os.listdir (inputpath)])\n",
    "\n",
    "while 1:\n",
    "    if startpage-1 == endpage:\n",
    "        break\n",
    "        \n",
    "    time.sleep (1) #wait\n",
    "    after = dict([(f,None) for f in os.listdir (inputpath)]) #list after\n",
    "    added = [f for f in after if not f in before] #check after\n",
    "    \n",
    "    if added: #if true else loop again\n",
    "        #print (\"Added:{}\".format (added[0]))\n",
    "        new_name = \"_({}).png\".format(startpage)\n",
    "        old = os.path.join(inputpath,added[0])\n",
    "        new = os.path.join(inputpath,new_name)\n",
    "        os.rename(old,new)\n",
    "        #print (\"Renamed:{}\".format (new_name))\n",
    "        after = dict([(f,None) for f in os.listdir (inputpath)]) # list after renamed\n",
    "        startpage += 1\n",
    "    \n",
    "    before = after #make new after as current\n",
    "\n",
    "print(\"Finished\")"
   ]
  },
  {
   "cell_type": "markdown",
   "metadata": {},
   "source": [
    "## The second part\n",
    "1. Filter only file with correct name pattern\n",
    "2. sort\n",
    "3. convert to PDF\n",
    "4. move all into \"PNG\" subfolder"
   ]
  },
  {
   "cell_type": "code",
   "execution_count": null,
   "metadata": {},
   "outputs": [],
   "source": [
    "from os import listdir,path,mkdir,rename\n",
    "import img2pdf, re, shutil\n",
    "\n",
    "pat = r'.*\\((.*\\d)\\).png'\n",
    "# filter only file with correct name and format\n",
    "img_list = [path.join(inputpath, f) for f in listdir(inputpath) if re.match(pat,f)]\n",
    "# sort the list based on number in the bracket\n",
    "img_list.sort(key=lambda f: int(''.join(list(filter(str.isdigit,f)))))\n",
    "\n",
    "with open(path.join(inputpath,outputfile),\"wb\") as f:\n",
    "    f.write(img2pdf.convert(img_list))\n",
    "#create new PNG folder\n",
    "png_folder = path.join(inputpath,'PNG')\n",
    "mkdir(png_folder)\n",
    "#move all\n",
    "for f in img_list:\n",
    "    shutil.move(f,png_folder)"
   ]
  }
 ],
 "metadata": {
  "kernelspec": {
   "display_name": "Python 3",
   "language": "python",
   "name": "python3"
  },
  "language_info": {
   "codemirror_mode": {
    "name": "ipython",
    "version": 3
   },
   "file_extension": ".py",
   "mimetype": "text/x-python",
   "name": "python",
   "nbconvert_exporter": "python",
   "pygments_lexer": "ipython3",
   "version": "3.6.2"
  }
 },
 "nbformat": 4,
 "nbformat_minor": 2
}
