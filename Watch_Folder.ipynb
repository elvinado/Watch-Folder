{
 "cells": [
  {
   "cell_type": "code",
   "execution_count": null,
   "metadata": {},
   "outputs": [],
   "source": [
    "import os, time\n",
    "mypath = \"H:\\All Alvin\\py\\Stitch Picture\\input\"\n",
    "outfilename = \"PMO3PNNWWS07.pdf\"\n",
    "before = dict([(f,None) for f in os.listdir (mypath)])\n",
    "start = 66\n",
    "end = 71\n",
    "\n",
    "while 1:\n",
    "    if start-1 == end:\n",
    "        break\n",
    "        \n",
    "    time.sleep (1) #wait\n",
    "    after = dict([(f,None) for f in os.listdir (mypath)]) #list after\n",
    "    added = [f for f in after if not f in before] #check after\n",
    "    \n",
    "    if added: #if true else loop again\n",
    "        #print (\"Added:{}\".format (added[0]))\n",
    "        new_name = \"_({}).png\".format(start)\n",
    "        old = os.path.join(mypath,added[0])\n",
    "        new = os.path.join(mypath,new_name)\n",
    "        os.rename(old,new)\n",
    "        #print (\"Renamed:{}\".format (new_name))\n",
    "        after = dict([(f,None) for f in os.listdir (mypath)]) # list after renamed\n",
    "        start += 1\n",
    "    \n",
    "    before = after #make new after as current\n",
    "\n",
    "print(\"Finished\")"
   ]
  },
  {
   "cell_type": "code",
   "execution_count": null,
   "metadata": {},
   "outputs": [],
   "source": [
    "from os import listdir,path,mkdir,rename\n",
    "import img2pdf, re, shutil\n",
    "\n",
    "pat = r'.*\\((.*\\d)\\).png'\n",
    "# filter only file with correct name and format\n",
    "img_list = [path.join(mypath, f) for f in listdir(mypath) if re.match(pat,f)]\n",
    "# sort the list based on number in the bracket\n",
    "img_list.sort(key=lambda f: int(''.join(list(filter(str.isdigit,f)))))\n",
    "\n",
    "with open(path.join(mypath,outfilename),\"wb\") as f:\n",
    "    f.write(img2pdf.convert(img_list))\n",
    "#create new PNG folder\n",
    "png_folder = path.join(mypath,'PNG')\n",
    "mkdir(png_folder)\n",
    "#move all\n",
    "for f in img_list:\n",
    "    shutil.move(f,png_folder)"
   ]
  }
 ],
 "metadata": {
  "kernelspec": {
   "display_name": "Python 3",
   "language": "python",
   "name": "python3"
  },
  "language_info": {
   "codemirror_mode": {
    "name": "ipython",
    "version": 3
   },
   "file_extension": ".py",
   "mimetype": "text/x-python",
   "name": "python",
   "nbconvert_exporter": "python",
   "pygments_lexer": "ipython3",
   "version": "3.6.2"
  }
 },
 "nbformat": 4,
 "nbformat_minor": 2
}
